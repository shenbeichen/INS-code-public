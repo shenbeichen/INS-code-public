{
 "cells": [
  {
   "cell_type": "code",
   "execution_count": 1,
   "metadata": {},
   "outputs": [],
   "source": [
    "from setup1 import *\n",
    "from nxspe import *\n",
    "from crystal_structure import *\n",
    "import time"
   ]
  },
  {
   "cell_type": "code",
   "execution_count": 6,
   "metadata": {},
   "outputs": [
    {
     "name": "stdout",
     "output_type": "stream",
     "text": [
      "[[ -7.67872277e-33   6.63707561e-01  -6.63707561e-01]\n",
      " [  7.67872277e-33   6.63707561e-01   6.63707561e-01]\n",
      " [  9.38624235e-01   1.47372683e-16  -6.60919492e-17]]\n"
     ]
    }
   ],
   "source": [
    "data_path = '/SNS/users/yshen/data/SNS/ARCS/IPTS-20963/shared/autoreduce/'\n",
    "outdir = '/SNS/users/yshen/data/SNS/ARCS/IPTS-20963/shared/NaBr_yshen/own_code/'\n",
    "\n",
    "# all\n",
    "data_files = [data_path+'ARCS_'+str(i)+'_autoreduced.nxspe' for i in range(118763,118964)]\n",
    "list_psi = np.hstack((np.arange(11, 112), np.arange(11.5, 111)))\n",
    "\n",
    "# single\n",
    "#data_files = [data_path+'ARCS_'+str(i)+'_autoreduced.nxspe' for i in range(118763,118764)]\n",
    "#list_psi = [11]\n",
    "\n",
    "# two\n",
    "#data_files = [data_path+'ARCS_'+str(i)+'_autoreduced.nxspe' for i in range(118763,118765)]\n",
    "#list_psi = [11, 12]\n",
    "\n",
    "assert len(list_psi) == len(data_files)\n",
    "\n",
    "c = crystal_structure( 'crystal_structure.info' )\n",
    "uv_to_rlu = c.get_UB_matrix_inv()\n",
    "print(uv_to_rlu)"
   ]
  },
  {
   "cell_type": "code",
   "execution_count": 8,
   "metadata": {},
   "outputs": [
    {
     "name": "stdout",
     "output_type": "stream",
     "text": [
      "Processed _118763_autoreduced.nxspe in 21.98 seconds.\n",
      "Processed _118764_autoreduced.nxspe in 21.14 seconds.\n",
      "Processed _118765_autoreduced.nxspe in 21.27 seconds.\n",
      "Processed _118766_autoreduced.nxspe in 21.70 seconds.\n",
      "Processed _118767_autoreduced.nxspe in 21.24 seconds.\n",
      "Processed _118768_autoreduced.nxspe in 21.21 seconds.\n",
      "Processed _118769_autoreduced.nxspe in 21.83 seconds.\n",
      "Processed _118770_autoreduced.nxspe in 21.88 seconds.\n",
      "Processed _118771_autoreduced.nxspe in 21.54 seconds.\n",
      "Processed _118772_autoreduced.nxspe in 21.36 seconds.\n",
      "Processed _118773_autoreduced.nxspe in 22.43 seconds.\n",
      "Processed _118774_autoreduced.nxspe in 21.14 seconds.\n",
      "Processed _118775_autoreduced.nxspe in 21.33 seconds.\n",
      "Processed _118776_autoreduced.nxspe in 22.69 seconds.\n",
      "Processed _118777_autoreduced.nxspe in 21.33 seconds.\n",
      "Processed _118778_autoreduced.nxspe in 21.48 seconds.\n",
      "Processed _118779_autoreduced.nxspe in 21.43 seconds.\n",
      "Processed _118780_autoreduced.nxspe in 21.92 seconds.\n",
      "Processed _118781_autoreduced.nxspe in 21.41 seconds.\n",
      "Processed _118782_autoreduced.nxspe in 22.07 seconds.\n",
      "Processed _118783_autoreduced.nxspe in 21.87 seconds.\n",
      "Processed _118784_autoreduced.nxspe in 20.94 seconds.\n",
      "Processed _118785_autoreduced.nxspe in 21.06 seconds.\n",
      "Processed _118786_autoreduced.nxspe in 21.26 seconds.\n",
      "Processed _118787_autoreduced.nxspe in 22.26 seconds.\n",
      "Processed _118788_autoreduced.nxspe in 22.13 seconds.\n",
      "Processed _118789_autoreduced.nxspe in 21.58 seconds.\n",
      "Processed _118790_autoreduced.nxspe in 21.19 seconds.\n",
      "Processed _118791_autoreduced.nxspe in 21.30 seconds.\n",
      "Processed _118792_autoreduced.nxspe in 21.35 seconds.\n",
      "Processed _118793_autoreduced.nxspe in 21.85 seconds.\n",
      "Processed _118794_autoreduced.nxspe in 21.20 seconds.\n",
      "Processed _118795_autoreduced.nxspe in 21.09 seconds.\n",
      "Processed _118796_autoreduced.nxspe in 21.58 seconds.\n",
      "Processed _118797_autoreduced.nxspe in 20.96 seconds.\n",
      "Processed _118798_autoreduced.nxspe in 21.23 seconds.\n",
      "Processed _118799_autoreduced.nxspe in 21.23 seconds.\n",
      "Processed _118800_autoreduced.nxspe in 23.10 seconds.\n",
      "Processed _118801_autoreduced.nxspe in 21.39 seconds.\n",
      "Processed _118802_autoreduced.nxspe in 21.13 seconds.\n",
      "Processed _118803_autoreduced.nxspe in 20.80 seconds.\n",
      "Processed _118804_autoreduced.nxspe in 21.39 seconds.\n",
      "Processed _118805_autoreduced.nxspe in 21.55 seconds.\n",
      "Processed _118806_autoreduced.nxspe in 21.27 seconds.\n",
      "Processed _118807_autoreduced.nxspe in 23.96 seconds.\n",
      "Processed _118808_autoreduced.nxspe in 21.18 seconds.\n",
      "Processed _118809_autoreduced.nxspe in 21.22 seconds.\n",
      "Processed _118810_autoreduced.nxspe in 21.53 seconds.\n",
      "Processed _118811_autoreduced.nxspe in 21.28 seconds.\n",
      "Processed _118812_autoreduced.nxspe in 22.91 seconds.\n",
      "Processed _118813_autoreduced.nxspe in 21.64 seconds.\n",
      "Processed _118814_autoreduced.nxspe in 21.73 seconds.\n",
      "Processed _118815_autoreduced.nxspe in 21.90 seconds.\n",
      "Processed _118816_autoreduced.nxspe in 22.92 seconds.\n",
      "Processed _118817_autoreduced.nxspe in 21.82 seconds.\n",
      "Processed _118818_autoreduced.nxspe in 21.15 seconds.\n",
      "Processed _118819_autoreduced.nxspe in 22.12 seconds.\n",
      "Processed _118820_autoreduced.nxspe in 21.37 seconds.\n",
      "Processed _118821_autoreduced.nxspe in 22.44 seconds.\n",
      "Processed _118822_autoreduced.nxspe in 21.42 seconds.\n",
      "Processed _118823_autoreduced.nxspe in 22.87 seconds.\n",
      "Processed _118824_autoreduced.nxspe in 23.39 seconds.\n",
      "Processed _118825_autoreduced.nxspe in 21.62 seconds.\n",
      "Processed _118826_autoreduced.nxspe in 21.42 seconds.\n",
      "Processed _118827_autoreduced.nxspe in 22.63 seconds.\n",
      "Processed _118828_autoreduced.nxspe in 21.56 seconds.\n",
      "Processed _118829_autoreduced.nxspe in 21.33 seconds.\n",
      "Processed _118830_autoreduced.nxspe in 21.11 seconds.\n",
      "Processed _118831_autoreduced.nxspe in 22.54 seconds.\n",
      "Processed _118832_autoreduced.nxspe in 21.30 seconds.\n",
      "Processed _118833_autoreduced.nxspe in 21.64 seconds.\n",
      "Processed _118834_autoreduced.nxspe in 21.82 seconds.\n",
      "Processed _118835_autoreduced.nxspe in 21.98 seconds.\n",
      "Processed _118836_autoreduced.nxspe in 21.19 seconds.\n",
      "Processed _118837_autoreduced.nxspe in 21.08 seconds.\n",
      "Processed _118838_autoreduced.nxspe in 23.44 seconds.\n",
      "Processed _118839_autoreduced.nxspe in 21.58 seconds.\n",
      "Processed _118840_autoreduced.nxspe in 21.02 seconds.\n",
      "Processed _118841_autoreduced.nxspe in 21.47 seconds.\n",
      "Processed _118842_autoreduced.nxspe in 21.61 seconds.\n",
      "Processed _118843_autoreduced.nxspe in 21.59 seconds.\n",
      "Processed _118844_autoreduced.nxspe in 21.04 seconds.\n",
      "Processed _118845_autoreduced.nxspe in 23.91 seconds.\n",
      "Processed _118846_autoreduced.nxspe in 20.98 seconds.\n",
      "Processed _118847_autoreduced.nxspe in 22.38 seconds.\n",
      "Processed _118848_autoreduced.nxspe in 22.01 seconds.\n",
      "Processed _118849_autoreduced.nxspe in 21.41 seconds.\n",
      "Processed _118850_autoreduced.nxspe in 22.06 seconds.\n",
      "Processed _118851_autoreduced.nxspe in 21.21 seconds.\n",
      "Processed _118852_autoreduced.nxspe in 21.40 seconds.\n",
      "Processed _118853_autoreduced.nxspe in 23.42 seconds.\n",
      "Processed _118854_autoreduced.nxspe in 21.72 seconds.\n",
      "Processed _118855_autoreduced.nxspe in 22.12 seconds.\n",
      "Processed _118856_autoreduced.nxspe in 21.72 seconds.\n",
      "Processed _118857_autoreduced.nxspe in 21.49 seconds.\n",
      "Processed _118858_autoreduced.nxspe in 21.93 seconds.\n",
      "Processed _118859_autoreduced.nxspe in 21.32 seconds.\n",
      "Processed _118860_autoreduced.nxspe in 22.71 seconds.\n",
      "Processed _118861_autoreduced.nxspe in 20.82 seconds.\n",
      "Processed _118862_autoreduced.nxspe in 21.91 seconds.\n",
      "Processed _118863_autoreduced.nxspe in 21.87 seconds.\n",
      "Processed _118864_autoreduced.nxspe in 22.14 seconds.\n",
      "Processed _118865_autoreduced.nxspe in 21.49 seconds.\n",
      "Processed _118866_autoreduced.nxspe in 21.58 seconds.\n",
      "Processed _118867_autoreduced.nxspe in 21.60 seconds.\n",
      "Processed _118868_autoreduced.nxspe in 21.70 seconds.\n",
      "Processed _118869_autoreduced.nxspe in 26.10 seconds.\n",
      "Processed _118870_autoreduced.nxspe in 22.47 seconds.\n",
      "Processed _118871_autoreduced.nxspe in 21.18 seconds.\n",
      "Processed _118872_autoreduced.nxspe in 21.97 seconds.\n",
      "Processed _118873_autoreduced.nxspe in 21.36 seconds.\n",
      "Processed _118874_autoreduced.nxspe in 21.07 seconds.\n",
      "Processed _118875_autoreduced.nxspe in 21.36 seconds.\n",
      "Processed _118876_autoreduced.nxspe in 21.31 seconds.\n",
      "Processed _118877_autoreduced.nxspe in 22.29 seconds.\n",
      "Processed _118878_autoreduced.nxspe in 21.76 seconds.\n",
      "Processed _118879_autoreduced.nxspe in 21.37 seconds.\n",
      "Processed _118880_autoreduced.nxspe in 21.19 seconds.\n",
      "Processed _118881_autoreduced.nxspe in 20.97 seconds.\n",
      "Processed _118882_autoreduced.nxspe in 21.82 seconds.\n",
      "Processed _118883_autoreduced.nxspe in 21.07 seconds.\n",
      "Processed _118884_autoreduced.nxspe in 21.51 seconds.\n",
      "Processed _118885_autoreduced.nxspe in 21.00 seconds.\n",
      "Processed _118886_autoreduced.nxspe in 21.33 seconds.\n",
      "Processed _118887_autoreduced.nxspe in 21.38 seconds.\n",
      "Processed _118888_autoreduced.nxspe in 21.17 seconds.\n",
      "Processed _118889_autoreduced.nxspe in 22.25 seconds.\n",
      "Processed _118890_autoreduced.nxspe in 21.18 seconds.\n",
      "Processed _118891_autoreduced.nxspe in 21.18 seconds.\n",
      "Processed _118892_autoreduced.nxspe in 20.97 seconds.\n",
      "Processed _118893_autoreduced.nxspe in 21.37 seconds.\n",
      "Processed _118894_autoreduced.nxspe in 21.52 seconds.\n",
      "Processed _118895_autoreduced.nxspe in 21.21 seconds.\n",
      "Processed _118896_autoreduced.nxspe in 22.51 seconds.\n",
      "Processed _118897_autoreduced.nxspe in 21.09 seconds.\n",
      "Processed _118898_autoreduced.nxspe in 21.57 seconds.\n",
      "Processed _118899_autoreduced.nxspe in 21.63 seconds.\n",
      "Processed _118900_autoreduced.nxspe in 22.22 seconds.\n",
      "Processed _118901_autoreduced.nxspe in 21.53 seconds.\n",
      "Processed _118902_autoreduced.nxspe in 21.47 seconds.\n",
      "Processed _118903_autoreduced.nxspe in 21.28 seconds.\n",
      "Processed _118904_autoreduced.nxspe in 21.43 seconds.\n",
      "Processed _118905_autoreduced.nxspe in 23.30 seconds.\n",
      "Processed _118906_autoreduced.nxspe in 21.67 seconds.\n",
      "Processed _118907_autoreduced.nxspe in 22.26 seconds.\n",
      "Processed _118908_autoreduced.nxspe in 21.39 seconds.\n",
      "Processed _118909_autoreduced.nxspe in 21.90 seconds.\n",
      "Processed _118910_autoreduced.nxspe in 22.58 seconds.\n",
      "Processed _118911_autoreduced.nxspe in 21.88 seconds.\n",
      "Processed _118912_autoreduced.nxspe in 21.44 seconds.\n",
      "Processed _118913_autoreduced.nxspe in 21.50 seconds.\n",
      "Processed _118914_autoreduced.nxspe in 24.06 seconds.\n"
     ]
    },
    {
     "name": "stdout",
     "output_type": "stream",
     "text": [
      "Processed _118915_autoreduced.nxspe in 22.35 seconds.\n",
      "Processed _118916_autoreduced.nxspe in 21.44 seconds.\n",
      "Processed _118917_autoreduced.nxspe in 22.58 seconds.\n",
      "Processed _118918_autoreduced.nxspe in 22.44 seconds.\n",
      "Processed _118919_autoreduced.nxspe in 21.31 seconds.\n",
      "Processed _118920_autoreduced.nxspe in 22.41 seconds.\n",
      "Processed _118921_autoreduced.nxspe in 21.15 seconds.\n",
      "Processed _118922_autoreduced.nxspe in 21.39 seconds.\n",
      "Processed _118923_autoreduced.nxspe in 21.25 seconds.\n",
      "Processed _118924_autoreduced.nxspe in 21.34 seconds.\n",
      "Processed _118925_autoreduced.nxspe in 21.58 seconds.\n",
      "Processed _118926_autoreduced.nxspe in 21.01 seconds.\n",
      "Processed _118927_autoreduced.nxspe in 21.22 seconds.\n",
      "Processed _118928_autoreduced.nxspe in 21.54 seconds.\n",
      "Processed _118929_autoreduced.nxspe in 21.14 seconds.\n",
      "Processed _118930_autoreduced.nxspe in 21.49 seconds.\n",
      "Processed _118931_autoreduced.nxspe in 21.68 seconds.\n",
      "Processed _118932_autoreduced.nxspe in 20.78 seconds.\n",
      "Processed _118933_autoreduced.nxspe in 21.72 seconds.\n",
      "Processed _118934_autoreduced.nxspe in 21.98 seconds.\n",
      "Processed _118935_autoreduced.nxspe in 21.97 seconds.\n",
      "Processed _118936_autoreduced.nxspe in 21.84 seconds.\n",
      "Processed _118937_autoreduced.nxspe in 22.06 seconds.\n",
      "Processed _118938_autoreduced.nxspe in 21.80 seconds.\n",
      "Processed _118939_autoreduced.nxspe in 21.86 seconds.\n",
      "Processed _118940_autoreduced.nxspe in 21.75 seconds.\n",
      "Processed _118941_autoreduced.nxspe in 21.68 seconds.\n",
      "Processed _118942_autoreduced.nxspe in 21.57 seconds.\n",
      "Processed _118943_autoreduced.nxspe in 21.87 seconds.\n",
      "Processed _118944_autoreduced.nxspe in 21.63 seconds.\n",
      "Processed _118945_autoreduced.nxspe in 21.34 seconds.\n",
      "Processed _118946_autoreduced.nxspe in 21.05 seconds.\n",
      "Processed _118947_autoreduced.nxspe in 21.45 seconds.\n",
      "Processed _118948_autoreduced.nxspe in 21.69 seconds.\n",
      "Processed _118949_autoreduced.nxspe in 21.19 seconds.\n",
      "Processed _118950_autoreduced.nxspe in 22.29 seconds.\n",
      "Processed _118951_autoreduced.nxspe in 22.05 seconds.\n",
      "Processed _118952_autoreduced.nxspe in 21.37 seconds.\n",
      "Processed _118953_autoreduced.nxspe in 21.72 seconds.\n",
      "Processed _118954_autoreduced.nxspe in 21.43 seconds.\n",
      "Processed _118955_autoreduced.nxspe in 21.49 seconds.\n",
      "Processed _118956_autoreduced.nxspe in 22.54 seconds.\n",
      "Processed _118957_autoreduced.nxspe in 21.54 seconds.\n",
      "Processed _118958_autoreduced.nxspe in 21.71 seconds.\n",
      "Processed _118959_autoreduced.nxspe in 21.98 seconds.\n",
      "Processed _118960_autoreduced.nxspe in 20.98 seconds.\n",
      "Processed _118961_autoreduced.nxspe in 21.90 seconds.\n",
      "Processed _118962_autoreduced.nxspe in 21.18 seconds.\n",
      "Processed _118963_autoreduced.nxspe in 21.75 seconds.\n",
      "Total time collasped: 4362.43 seconds, for 201 files.\n"
     ]
    }
   ],
   "source": [
    "t1 = time.time()\n",
    "for file, psi in zip(data_files, list_psi):\n",
    "    start = time.time()\n",
    "    n = nxspe(file, override_psi=psi)\n",
    "    n.write_to_csv_while_converting(uv_to_rlu, outdir=outdir, keep_zeros=True)\n",
    "    end = time.time()\n",
    "    print('Processed', file[-25:], 'in', '%.2f'%(end-start), 'seconds.')\n",
    "t2 = time.time()\n",
    "print('Total time collasped:', '%.2f'%(t2-t1), 'seconds, for', len(data_files), 'files.')"
   ]
  },
  {
   "cell_type": "code",
   "execution_count": 5,
   "metadata": {},
   "outputs": [
    {
     "data": {
      "text/plain": [
       "array([[ nan,  nan,  nan, ...,  nan,  nan,  nan],\n",
       "       [ nan,  nan,  nan, ...,  nan,  nan,  nan],\n",
       "       [ nan,  nan,  nan, ...,  nan,  nan,  nan],\n",
       "       ..., \n",
       "       [ nan,  nan,  nan, ...,  nan,  nan,  nan],\n",
       "       [ nan,  nan,  nan, ...,  nan,  nan,  nan],\n",
       "       [ nan,  nan,  nan, ...,  nan,  nan,  nan]])"
      ]
     },
     "execution_count": 5,
     "metadata": {},
     "output_type": "execute_result"
    }
   ],
   "source": [
    "n.intensity"
   ]
  },
  {
   "cell_type": "code",
   "execution_count": 6,
   "metadata": {},
   "outputs": [
    {
     "data": {
      "text/plain": [
       "'/SNS/users/yshen/data/SNS/ARCS/IPTS-20963/shared/autoreduce/ARCS_118763_autoreduced.nxspe'"
      ]
     },
     "execution_count": 6,
     "metadata": {},
     "output_type": "execute_result"
    }
   ],
   "source": [
    "n.fname"
   ]
  },
  {
   "cell_type": "code",
   "execution_count": 13,
   "metadata": {},
   "outputs": [],
   "source": [
    "f = h5.File('/SNS/users/yshen/data/SNS/ARCS/IPTS-20963/shared/autoreduce/ARCS_118863_autoreduced.nxspe','r')"
   ]
  },
  {
   "cell_type": "code",
   "execution_count": 8,
   "metadata": {},
   "outputs": [],
   "source": [
    "entry = list(f.keys())[0]"
   ]
  },
  {
   "cell_type": "code",
   "execution_count": 18,
   "metadata": {},
   "outputs": [
    {
     "data": {
      "text/plain": [
       "7389760"
      ]
     },
     "execution_count": 18,
     "metadata": {},
     "output_type": "execute_result"
    }
   ],
   "source": [
    "np.sum(1-np.isnan(np.array( f[entry+'/data/data'] )))"
   ]
  },
  {
   "cell_type": "code",
   "execution_count": 4,
   "metadata": {},
   "outputs": [
    {
     "data": {
      "text/plain": [
       "array([ 0.,  0.,  1.])"
      ]
     },
     "execution_count": 4,
     "metadata": {},
     "output_type": "execute_result"
    }
   ],
   "source": [
    "c.u"
   ]
  },
  {
   "cell_type": "code",
   "execution_count": 5,
   "metadata": {},
   "outputs": [
    {
     "data": {
      "text/plain": [
       "array([[  5.89755,   5.89755,   5.89755],\n",
       "       [ 90.     ,  90.     ,  90.     ],\n",
       "       [  0.     ,   0.     ,   1.     ],\n",
       "       [  1.     ,   1.     ,   0.     ]])"
      ]
     },
     "execution_count": 5,
     "metadata": {},
     "output_type": "execute_result"
    }
   ],
   "source": [
    "c.crystal_info"
   ]
  },
  {
   "cell_type": "code",
   "execution_count": 4,
   "metadata": {
    "scrolled": true
   },
   "outputs": [
    {
     "data": {
      "text/plain": [
       "array([[  1.06538907e+00,  -1.71327629e-16,  -1.71327629e-16],\n",
       "       [  0.00000000e+00,   1.06538907e+00,  -6.52362657e-17],\n",
       "       [  0.00000000e+00,   0.00000000e+00,   1.69561937e-01]])"
      ]
     },
     "execution_count": 4,
     "metadata": {},
     "output_type": "execute_result"
    }
   ],
   "source": [
    "c.B"
   ]
  },
  {
   "cell_type": "code",
   "execution_count": 13,
   "metadata": {},
   "outputs": [
    {
     "data": {
      "text/plain": [
       "array([ 0.16956194,  0.16956194,  0.16956194])"
      ]
     },
     "execution_count": 13,
     "metadata": {},
     "output_type": "execute_result"
    }
   ],
   "source": [
    "c.alatt_"
   ]
  },
  {
   "cell_type": "code",
   "execution_count": 14,
   "metadata": {},
   "outputs": [
    {
     "data": {
      "text/plain": [
       "array([ 1.57079633,  1.57079633,  1.57079633])"
      ]
     },
     "execution_count": 14,
     "metadata": {},
     "output_type": "execute_result"
    }
   ],
   "source": [
    "c.ang"
   ]
  },
  {
   "cell_type": "code",
   "execution_count": null,
   "metadata": {},
   "outputs": [],
   "source": []
  }
 ],
 "metadata": {
  "kernelspec": {
   "display_name": "Python 3",
   "language": "python",
   "name": "python3"
  },
  "language_info": {
   "codemirror_mode": {
    "name": "ipython",
    "version": 3
   },
   "file_extension": ".py",
   "mimetype": "text/x-python",
   "name": "python",
   "nbconvert_exporter": "python",
   "pygments_lexer": "ipython3",
   "version": "3.6.2"
  }
 },
 "nbformat": 4,
 "nbformat_minor": 2
}
